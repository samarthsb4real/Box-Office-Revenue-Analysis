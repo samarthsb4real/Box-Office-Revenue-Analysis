{
 "cells": [
  {
   "cell_type": "code",
   "execution_count": 3,
   "id": "ece82d0d-f4d5-41cf-a946-428b8edbdfa8",
   "metadata": {},
   "outputs": [],
   "source": [
    "#importing libraries\n",
    "import numpy as np\n",
    "import pandas as pd\n",
    "import matplotlib.pyplot as plt\n",
    "from scipy.stats import binom, poisson, norm\n",
    "import random"
   ]
  },
  {
   "cell_type": "code",
   "execution_count": 4,
   "id": "7611aa9f-af4f-4875-b7bb-fe5c459d6bc6",
   "metadata": {},
   "outputs": [],
   "source": [
    "# 1. Overview: Simulate movie dataset with genres, budget, and revenue\n",
    "np.random.seed(42)\n",
    "num_movies = 100\n",
    "\n",
    "genres = ['Action', 'Drama', 'Comedy', 'Horror', 'Romance', 'Sci-Fi']\n",
    "budgets = np.random.randint(10, 300, size=num_movies) * 1e6  # in millions\n",
    "revenues = budgets * np.random.uniform(0.5, 3.0, size=num_movies)  # revenue in millions\n",
    "weeks_top_10 = np.random.randint(1, 15, size=num_movies)\n",
    "\n",
    "movie_data = pd.DataFrame({\n",
    "    'Genre': np.random.choice(genres, size=num_movies),\n",
    "    'Budget ($M)': budgets,\n",
    "    'Revenue ($M)': revenues,\n",
    "    'Weeks in Top 10': weeks_top_10\n",
    "})"
   ]
  },
  {
   "cell_type": "code",
   "execution_count": 5,
   "id": "73612a9e-831b-4d5a-882d-cb9261c61620",
   "metadata": {},
   "outputs": [],
   "source": [
    "# 2. Define revenue categories (Low: < $50M, Medium: $50M-$150M, High: > $150M)\n",
    "def categorize_revenue(revenue):\n",
    "    if revenue < 50e6:\n",
    "        return 'Low'\n",
    "    elif revenue < 150e6:\n",
    "        return 'Medium'\n",
    "    else:\n",
    "        return 'High'\n",
    "\n",
    "movie_data['Revenue Category'] = movie_data['Revenue ($M)'].apply(categorize_revenue)"
   ]
  },
  {
   "cell_type": "code",
   "execution_count": 6,
   "id": "b9a20284-3bd8-4d8e-96b7-cdde56542b64",
   "metadata": {},
   "outputs": [],
   "source": [
    "# 3. Probability of each revenue category\n",
    "revenue_counts = movie_data['Revenue Category'].value_counts(normalize=True)\n",
    "low_prob, medium_prob, high_prob = revenue_counts['Low'], revenue_counts['Medium'], revenue_counts['High']"
   ]
  },
  {
   "cell_type": "code",
   "execution_count": 7,
   "id": "bad216d6-e7d4-4edb-b959-ec0a08199423",
   "metadata": {},
   "outputs": [],
   "source": [
    "# 4. Simulate probability distributions\n",
    "# Binomial: Weeks in Top 10\n",
    "n_trials = 10\n",
    "p_success = 0.3  # arbitrary success probability\n",
    "binom_dist = binom(n_trials, p_success)\n",
    "\n",
    "# Poisson: Movies exceeding revenue threshold ($100M)\n",
    "lambda_ = 100  # mean value for Poisson\n",
    "poisson_dist = poisson(lambda_)\n",
    "\n",
    "# Normal: Overall revenue distribution\n",
    "mean_revenue = np.mean(movie_data['Revenue ($M)'])\n",
    "std_revenue = np.std(movie_data['Revenue ($M)'])\n",
    "normal_dist = norm(mean_revenue, std_revenue)"
   ]
  },
  {
   "cell_type": "code",
   "execution_count": 8,
   "id": "66bb4f47-6381-4190-85da-f26c39b20fb1",
   "metadata": {},
   "outputs": [
    {
     "data": {
      "image/png": "[encoded data removed]",
      "text/plain": [
       "<Figure size 1500x500 with 3 Axes>"
      ]
     },
     "metadata": {},
     "output_type": "display_data"
    }
   ],
   "source": [
    "# 5. Plot distributions\n",
    "fig, axs = plt.subplots(1, 3, figsize=(15, 5))"
   ]
  },
  {
   "cell_type": "code",
   "execution_count": 9,
   "id": "8b7bcd30-16af-4399-80e1-b80b86a57fd9",
   "metadata": {},
   "outputs": [
    {
     "data": {
      "text/plain": [
       "Text(4.444444444444452, 0.5, 'Probability')"
      ]
     },
     "execution_count": 9,
     "metadata": {},
     "output_type": "execute_result"
    }
   ],
   "source": [
    "# Binomial distribution plot\n",
    "x_binom = np.arange(0, n_trials + 1)\n",
    "axs[0].bar(x_binom, binom_dist.pmf(x_binom))\n",
    "axs[0].set_title('Binomial Distribution: Weeks in Top 10')\n",
    "axs[0].set_xlabel('Weeks in Top 10')\n",
    "axs[0].set_ylabel('Probability')"
   ]
  },
  {
   "cell_type": "code",
   "execution_count": 10,
   "id": "be9d9e6c-cb1f-432e-8a30-40dd83048c11",
   "metadata": {},
   "outputs": [
    {
     "data": {
      "text/plain": [
       "Text(414.73856209150335, 0.5, 'Probability')"
      ]
     },
     "execution_count": 10,
     "metadata": {},
     "output_type": "execute_result"
    }
   ],
   "source": [
    "# Poisson distribution plot\n",
    "x_poisson = np.arange(0, lambda_ + 30)\n",
    "axs[1].bar(x_poisson, poisson_dist.pmf(x_poisson))\n",
    "axs[1].set_title('Poisson Distribution: Revenue > $100M')\n",
    "axs[1].set_xlabel('Movies')\n",
    "axs[1].set_ylabel('Probability')"
   ]
  },
  {
   "cell_type": "code",
   "execution_count": 11,
   "id": "fae98dc4-8c54-4bbc-b920-cd06ac2e248e",
   "metadata": {},
   "outputs": [
    {
     "data": {
      "text/plain": [
       "Text(825.0326797385623, 0.5, 'Density')"
      ]
     },
     "execution_count": 11,
     "metadata": {},
     "output_type": "execute_result"
    }
   ],
   "source": [
    "# Normal distribution plot\n",
    "x_norm = np.linspace(mean_revenue - 3*std_revenue, mean_revenue + 3*std_revenue, 100)\n",
    "axs[2].plot(x_norm, normal_dist.pdf(x_norm))\n",
    "axs[2].set_title('Normal Distribution: Revenue Spread')\n",
    "axs[2].set_xlabel('Revenue ($M)')\n",
    "axs[2].set_ylabel('Density')"
   ]
  },
  {
   "cell_type": "code",
   "execution_count": 12,
   "id": "c6d11d57-2034-4190-b915-54478b20df60",
   "metadata": {},
   "outputs": [
    {
     "data": {
      "text/plain": [
       "<Figure size 640x480 with 0 Axes>"
      ]
     },
     "metadata": {},
     "output_type": "display_data"
    }
   ],
   "source": [
    "plt.tight_layout()\n",
    "plt.show()"
   ]
  },
  {
   "cell_type": "code",
   "execution_count": 13,
   "id": "65d26e49-a108-42ed-87d7-58f24c82acbd",
   "metadata": {},
   "outputs": [
    {
     "data": {
      "text/plain": [
       "(     Genre  Budget ($M)  Revenue ($M)  Weeks in Top 10 Revenue Category\n",
       " 0  Romance  112000000.0  2.580843e+08               11             High\n",
       " 1   Action  280000000.0  3.051894e+08                7             High\n",
       " 2   Comedy  116000000.0  1.322598e+08                9           Medium\n",
       " 3    Drama   81000000.0  4.868780e+07                9              Low\n",
       " 4   Action  198000000.0  4.507781e+08                3             High,\n",
       " Revenue Category\n",
       " High      0.67\n",
       " Medium    0.23\n",
       " Low       0.10\n",
       " Name: proportion, dtype: float64)"
      ]
     },
     "execution_count": 13,
     "metadata": {},
     "output_type": "execute_result"
    }
   ],
   "source": [
    "movie_data.head(), revenue_counts"
   ]
  },
  {
   "cell_type": "code",
   "execution_count": null,
   "id": "344dcd9e-d6a4-49f6-b417-b55fdb15a137",
   "metadata": {},
   "outputs": [],
   "source": []
  }
 ],
 "metadata": {
  "kernelspec": {
   "display_name": "Python 3 (ipykernel)",
   "language": "python",
   "name": "python3"
  },
  "language_info": {
   "codemirror_mode": {
    "name": "ipython",
    "version": 3
   },
   "file_extension": ".py",
   "mimetype": "text/x-python",
   "name": "python",
   "nbconvert_exporter": "python",
   "pygments_lexer": "ipython3",
   "version": "3.12.4"
  }
 },
 "nbformat": 4,
 "nbformat_minor": 5
}
